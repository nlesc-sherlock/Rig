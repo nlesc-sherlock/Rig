{
 "cells": [
  {
   "cell_type": "markdown",
   "metadata": {},
   "source": [
    "# Upper\n",
    "\n",
    "Uppercase a column containing strings.\n",
    "\n",
    "Arguments:\n",
    "\n",
    "* `column_name` (`str`): the name of the column that should be uppercased.\n",
    "\n",
    "Returns:\n",
    "\n",
    "A data frame with column `column_name` in upper case."
   ]
  },
  {
   "cell_type": "code",
   "execution_count": null,
   "metadata": {
    "collapsed": true
   },
   "outputs": [],
   "source": [
    "import os\n",
    "os.environ['PYSPARK_SUBMIT_ARGS'] = '--packages com.databricks:spark-csv_2.10:1.3.0 pyspark-shell'\n",
    "\n",
    "import pyspark\n",
    "sc = pyspark.SparkContext('local[*]')\n",
    "\n",
    "from pyspark.sql import SQLContext\n",
    "sqlContext = SQLContext(sc)"
   ]
  },
  {
   "cell_type": "code",
   "execution_count": null,
   "metadata": {
    "collapsed": false
   },
   "outputs": [],
   "source": [
    "from pyspark.sql import Row\n",
    "\n",
    "data_in = sqlContext.createDataFrame([Row(token='Dear', tokennumber=0, sentencenumber=0, textid='text1', pos='NNP', lemma='Dear'), Row(token='phillip', tokennumber=1, sentencenumber=0, textid='text1', pos='NN', lemma='phillip'), Row(token=',', tokennumber=2, sentencenumber=0, textid='text1', pos=',', lemma=','), Row(token='This', tokennumber=3, sentencenumber=0, textid='text1', pos='DT', lemma='This'), Row(token='e-mail', tokennumber=4, sentencenumber=0, textid='text1', pos='NN', lemma='e-mail'), Row(token='is', tokennumber=5, sentencenumber=0, textid='text1', pos='VBZ', lemma='be'), Row(token='automated', tokennumber=6, sentencenumber=0, textid='text1', pos='VBN', lemma='automate'), Row(token='notification', tokennumber=7, sentencenumber=0, textid='text1', pos='NN', lemma='notification'), Row(token='of', tokennumber=8, sentencenumber=0, textid='text1', pos='IN', lemma='of'), Row(token='the', tokennumber=9, sentencenumber=0, textid='text1', pos='DT', lemma='the')])"
   ]
  },
  {
   "cell_type": "markdown",
   "metadata": {},
   "source": [
    "## Arguments"
   ]
  },
  {
   "cell_type": "code",
   "execution_count": null,
   "metadata": {
    "collapsed": true
   },
   "outputs": [],
   "source": [
    "column_name = 'lemma'"
   ]
  },
  {
   "cell_type": "markdown",
   "metadata": {},
   "source": [
    "## Block"
   ]
  },
  {
   "cell_type": "code",
   "execution_count": null,
   "metadata": {
    "arguments": [
     "column_name"
    ],
    "blockname": "upper",
    "collapsed": false,
    "input": "data_in",
    "output": "data_out",
    "type": "block"
   },
   "outputs": [],
   "source": [
    "from pyspark.sql.functions import upper\n",
    "\n",
    "data_out = data_in.withColumn(column_name, upper(data_in[column_name]))"
   ]
  },
  {
   "cell_type": "code",
   "execution_count": null,
   "metadata": {
    "collapsed": false
   },
   "outputs": [],
   "source": [
    "data_out.take(10)"
   ]
  }
 ],
 "metadata": {
  "celltoolbar": "Edit Metadata",
  "kernelspec": {
   "display_name": "Python 3",
   "language": "python",
   "name": "python3"
  },
  "language_info": {
   "codemirror_mode": {
    "name": "ipython",
    "version": 3
   },
   "file_extension": ".py",
   "mimetype": "text/x-python",
   "name": "python",
   "nbconvert_exporter": "python",
   "pygments_lexer": "ipython3",
   "version": "3.5.1"
  },
  "widgets": {
   "state": {},
   "version": "1.1.1"
  }
 },
 "nbformat": 4,
 "nbformat_minor": 0
}
