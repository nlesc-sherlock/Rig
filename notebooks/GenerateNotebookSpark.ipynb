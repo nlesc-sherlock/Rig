{
 "cells": [
  {
   "cell_type": "markdown",
   "metadata": {},
   "source": [
    "# Generate pyspark Notebook"
   ]
  },
  {
   "cell_type": "markdown",
   "metadata": {},
   "source": [
    "This Notebook generates a notebook (see last cell) which can be run in pyspark. This Notebook itself does not need Spark."
   ]
  },
  {
   "cell_type": "code",
   "execution_count": 1,
   "metadata": {
    "collapsed": false
   },
   "outputs": [],
   "source": [
    "import nbformat as nbf\n",
    "import nbformat.v4 as nbf4"
   ]
  },
  {
   "cell_type": "code",
   "execution_count": 2,
   "metadata": {
    "collapsed": false
   },
   "outputs": [],
   "source": [
    "nb_out = nbf4.new_notebook()\n",
    "cells_out = []"
   ]
  },
  {
   "cell_type": "markdown",
   "metadata": {},
   "source": [
    "First we create the workflow, by reading in Notebooks and defining the flow."
   ]
  },
  {
   "cell_type": "code",
   "execution_count": 3,
   "metadata": {
    "collapsed": false
   },
   "outputs": [],
   "source": [
    "with open(\"../Rig/blocks/load_csv.ipynb\", 'r') as f:\n",
    "    input_block = nbf.read(f, 4)\n",
    "    \n",
    "with open(\"../Rig/blocks/sample.ipynb\", 'r') as f:\n",
    "    block1 = nbf.read(f, 4)\n",
    "    \n",
    "workflow = [input_block, block1]"
   ]
  },
  {
   "cell_type": "code",
   "execution_count": 4,
   "metadata": {
    "collapsed": true
   },
   "outputs": [],
   "source": [
    "##Add the preamble\n",
    "with open(\"../Rig/blocks/preamble.ipynb\", 'r') as f:\n",
    "    preamble = nbf.read(f, 4)\n",
    "cells_out.extend(preamble['cells'])"
   ]
  },
  {
   "cell_type": "markdown",
   "metadata": {},
   "source": [
    "Now we are going to loop of over the workflow and create the cells for the notebook. It might need input from the user."
   ]
  },
  {
   "cell_type": "code",
   "execution_count": 5,
   "metadata": {
    "collapsed": false
   },
   "outputs": [
    {
     "name": "stdout",
     "output_type": "stream",
     "text": [
      "give input for parameter path in block load csv\n",
      "'/home/jovyan/work/Crimes_-_2001_to_present_2015-12.csv'\n",
      "give input for parameter sample_size in block sample\n",
      "100\n"
     ]
    }
   ],
   "source": [
    "last_output = None\n",
    "for block in workflow:\n",
    "    \n",
    "    for cell in block['cells']:\n",
    "        metadata = cell.get('metadata', {})\n",
    "        name = metadata.get(\"blockname\", \"Unknown block\")\n",
    "        if metadata.get('type', '') == 'block' :\n",
    "            \n",
    "            namecell = \"## %s\" % name\n",
    "            cells_out.append(nbf4.new_markdown_cell(namecell))\n",
    "            \n",
    "            #create the input\n",
    "            code_input = '%s = %s \\n' % (metadata.get('input', 'input'), last_output)\n",
    "            cells_out.append(nbf4.new_code_cell(code_input))\n",
    "\n",
    "            #Create the arguments\n",
    "            code_arguments = \"\"\n",
    "            arguments = metadata.get('arguments', [])\n",
    "            for argument in arguments:\n",
    "                print \"give input for parameter %s in block %s\" % (argument, name)\n",
    "                val = raw_input()\n",
    "                code_arguments += (\"%s = %s \\n\" % (argument, val))\n",
    "            if len(arguments) > 0:\n",
    "                cells_out.append(nbf4.new_code_cell(code_arguments))\n",
    "            code_arguments\n",
    "\n",
    "            #append the actual cell\n",
    "            cells_out.append(cell)\n",
    "            last_output = metadata.get('output', None)"
   ]
  },
  {
   "cell_type": "code",
   "execution_count": 6,
   "metadata": {
    "collapsed": false
   },
   "outputs": [],
   "source": [
    "nb_out['cells'] = cells_out"
   ]
  },
  {
   "cell_type": "code",
   "execution_count": 7,
   "metadata": {
    "collapsed": false
   },
   "outputs": [],
   "source": [
    "with open('../blocks/generated_test_spark.ipynb', 'w') as f:\n",
    "    nbf.write(nb_out, f, version=4)"
   ]
  },
  {
   "cell_type": "code",
   "execution_count": null,
   "metadata": {
    "collapsed": true
   },
   "outputs": [],
   "source": []
  }
 ],
 "metadata": {
  "kernelspec": {
   "display_name": "Python 2",
   "language": "python",
   "name": "python2"
  },
  "language_info": {
   "codemirror_mode": {
    "name": "ipython",
    "version": 2
   },
   "file_extension": ".py",
   "mimetype": "text/x-python",
   "name": "python",
   "nbconvert_exporter": "python",
   "pygments_lexer": "ipython2",
   "version": "2.7.11"
  }
 },
 "nbformat": 4,
 "nbformat_minor": 0
}
