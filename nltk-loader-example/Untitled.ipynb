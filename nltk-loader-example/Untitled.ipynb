{
 "cells": [
  {
   "cell_type": "code",
   "execution_count": 1,
   "metadata": {
    "collapsed": true
   },
   "outputs": [],
   "source": [
    "import os\n",
    "os.environ['PYSPARK_SUBMIT_ARGS'] = '--packages com.databricks:spark-csv_2.10:1.3.0 pyspark-shell'"
   ]
  },
  {
   "cell_type": "code",
   "execution_count": 2,
   "metadata": {
    "collapsed": true
   },
   "outputs": [],
   "source": [
    "import pyspark\n",
    "sc = pyspark.SparkContext()"
   ]
  },
  {
   "cell_type": "code",
   "execution_count": 3,
   "metadata": {
    "collapsed": false
   },
   "outputs": [
    {
     "name": "stdout",
     "output_type": "stream",
     "text": [
      "<pyspark.context.SparkContext object at 0x7f9890c6ee10>\n"
     ]
    }
   ],
   "source": [
    "print(sc)"
   ]
  },
  {
   "cell_type": "code",
   "execution_count": 4,
   "metadata": {
    "collapsed": true
   },
   "outputs": [],
   "source": [
    "from pyspark.sql import SQLContext\n",
    "sqlContext = SQLContext(sc)"
   ]
  },
  {
   "cell_type": "code",
   "execution_count": 5,
   "metadata": {
    "collapsed": false
   },
   "outputs": [
    {
     "data": {
      "text/plain": [
       "[170, 633, 147, 710, 315, 16, 697, 44, 844, 413]"
      ]
     },
     "execution_count": 5,
     "metadata": {},
     "output_type": "execute_result"
    }
   ],
   "source": [
    "# do something to prove it works\n",
    "rdd = sc.parallelize(range(1000))\n",
    "rdd.takeSample(False, 10)"
   ]
  },
  {
   "cell_type": "code",
   "execution_count": 6,
   "metadata": {
    "collapsed": false
   },
   "outputs": [
    {
     "data": {
      "text/plain": [
       "'/home/jovyan/work'"
      ]
     },
     "execution_count": 6,
     "metadata": {},
     "output_type": "execute_result"
    }
   ],
   "source": [
    "%pwd"
   ]
  },
  {
   "cell_type": "code",
   "execution_count": 7,
   "metadata": {
    "collapsed": false
   },
   "outputs": [
    {
     "name": "stdout",
     "output_type": "stream",
     "text": [
      "Dockerfile  README.md  Untitled.ipynb\r\n"
     ]
    }
   ],
   "source": [
    "%ls"
   ]
  },
  {
   "cell_type": "code",
   "execution_count": 8,
   "metadata": {
    "collapsed": false
   },
   "outputs": [
    {
     "name": "stdout",
     "output_type": "stream",
     "text": [
      "/data\n"
     ]
    }
   ],
   "source": [
    "%cd /data"
   ]
  },
  {
   "cell_type": "code",
   "execution_count": 9,
   "metadata": {
    "collapsed": false
   },
   "outputs": [
    {
     "name": "stdout",
     "output_type": "stream",
     "text": [
      "enron_mail.seq\r\n"
     ]
    }
   ],
   "source": [
    "%ls"
   ]
  },
  {
   "cell_type": "code",
   "execution_count": 10,
   "metadata": {
    "collapsed": true
   },
   "outputs": [],
   "source": [
    "data = sc.sequenceFile('/data/enron_mail.seq')"
   ]
  },
  {
   "cell_type": "code",
   "execution_count": 11,
   "metadata": {
    "collapsed": false
   },
   "outputs": [
    {
     "name": "stdout",
     "output_type": "stream",
     "text": [
      "MapPartitionsRDD[5] at mapPartitions at SerDeUtil.scala:206\n"
     ]
    }
   ],
   "source": [
    "print(data)"
   ]
  },
  {
   "cell_type": "code",
   "execution_count": 12,
   "metadata": {
    "collapsed": false
   },
   "outputs": [],
   "source": [
    "#data.count()"
   ]
  },
  {
   "cell_type": "code",
   "execution_count": 13,
   "metadata": {
    "collapsed": false
   },
   "outputs": [],
   "source": [
    "subset = data.top(10)"
   ]
  },
  {
   "cell_type": "code",
   "execution_count": 14,
   "metadata": {
    "collapsed": false
   },
   "outputs": [
    {
     "name": "stdout",
     "output_type": "stream",
     "text": [
      "maildir/zufferli-j/sent_items/99.\n",
      "Message-ID: <28618979.1075842030037.JavaMail.evans@thyme>\r\n",
      "Date: Mon, 26 Nov 2001 10:48:43 -0800 (PST)\r\n",
      "From: john.zufferli@enron.com\r\n",
      "To: livia_zufferli@monitor.com\r\n",
      "Subject: RE: ali's essays\r\n",
      "Mime-Version: 1.0\r\n",
      "Content-Type: text/plain; charset=us-ascii\r\n",
      "Content-Transfer-Encoding: 7bit\r\n",
      "X-From: Zufferli, John </O=ENRON/OU=NA/CN=RECIPIENTS/CN=JZUFFER>\r\n",
      "X-To: 'Livia_Zufferli@Monitor.com@ENRON'\r\n",
      "X-cc: \r\n",
      "X-bcc: \r\n",
      "X-Folder: \\ExMerge - Zufferli, John\\Sent Items\r\n",
      "X-Origin: ZUFFERLI-J\r\n",
      "X-FileName: john zufferli 6-26-02.PST\r\n",
      "\r\n",
      "i think the YMCA has a class that is for people recovering from heart-attacks\n",
      "i remeber something about that\n",
      "\n",
      " -----Original Message-----\n",
      "From: \tLivia_Zufferli@Monitor.com@ENRON  \n",
      "Sent:\tMonday, November 26, 2001 11:44 AM\n",
      "To:\tZufferli, John\n",
      "Subject:\tRE: ali's essays\n",
      "\n",
      "\n",
      "i don't know about the heart classes.  i'll look into it, but her dr (ravi)\n",
      "isn't offering up any suggestions or anything.  she saw him before the\n",
      "surgery in august, and he said things were okay.  i really don't think he's\n",
      "too helpful.\n",
      "\n",
      "she is lazy -- but it really frustrates me that she doesn't want to help\n",
      "herself.  i told her that not walking is like not taking her heart\n",
      "medication.  that didn't seem to resonate.  dad is going to go to the YMCA\n",
      "tomorrow and maybe get a membership for both of them -- they have a walking\n",
      "track there (at least it's something to do in the winter).  when she was\n",
      "down this weekend, we walked around the craft show (at the Exhibition\n",
      "place) and she said that was a lot of exercise (2 hrs).  The only problem\n",
      "is that we were just strolling, and not really walking very fast.\n",
      "\n",
      "\n",
      "\n",
      "\n",
      "\n",
      "                    John.Zufferli@\n",
      "                    enron.com            To:     Livia_Zufferli@Monitor.com\n",
      "                                         cc:\n",
      "                    11/26/2001           Subject:     RE: ali's essays\n",
      "                    01:41 PM\n",
      "\n",
      "\n",
      "\n",
      "\n",
      "\n",
      "\n",
      "just send the essay at home\n",
      "\n",
      "I don't know what to do about mom, i don't think fear is the only thing\n",
      "holding her back , i think she is lazy\n",
      "\n",
      "is there a heart health class in Sudbury that has excercise regimines as\n",
      "well as diets?\n",
      "\n",
      "when is the last time she saw her doctor\n",
      "\n",
      "    -----Original Message-----\n",
      "   From:   Livia_Zufferli@Monitor.com@ENRON\n",
      "   Sent:   Monday, November 26, 2001 11:19 AM\n",
      "   To:     Zufferli, John\n",
      "   Subject:  ali's essays\n",
      "\n",
      "   Hi John\n",
      "\n",
      "   How was Thanksgiving?  Was the baby shower fun?\n",
      "\n",
      "   I was wondering if you'd have some time to read over Ali's Chicago\n",
      "   essays\n",
      "   later tonight?  He's going to submit them on Wednesday.  Let me know if\n",
      "   that's okay.  Do you have a printer at home?  Can I send them to your\n",
      "   home\n",
      "   account?  (I don't think Ali will be done before about 8pm or so\n",
      "   tonight).\n",
      "\n",
      "   PS:  We need to talk about mom.  I saw her this weekend -- she's gained\n",
      "   a\n",
      "   lot of weight, and hasn't been exercising at all.  Dad's pretty\n",
      "   frustrated\n",
      "   because all she does is watch tv.  I had a talk with her yesterday\n",
      "   telling\n",
      "   her that she has more risk of having a heart attack if she doesn't walk\n",
      "   /\n",
      "   exercise than if she exerts herself when exercising (i think she's\n",
      "   afraid\n",
      "   of having a heart attack while exercising).  We need to do something --\n",
      "   she's 170lbs now, and should be at around 140lbs to be healthy.\n",
      "\n",
      "   Livia\n",
      "\n",
      "\n",
      "\n",
      "\n",
      "**********************************************************************\n",
      "This e-mail is the property of Enron Corp. and/or its relevant affiliate\n",
      "and may contain confidential and privileged material for the sole use of\n",
      "the intended recipient (s). Any review, use, distribution or disclosure by\n",
      "others is strictly prohibited. If you are not the intended recipient (or\n",
      "authorized to receive for the recipient), please contact the sender or\n",
      "reply to Enron Corp. at enron.messaging.administration@enron.com and delete\n",
      "all copies of the message. This e-mail (and any attachments hereto) are not\n",
      "intended to be an offer (or an acceptance) and do not create or evidence a\n",
      "binding and enforceable contract between Enron Corp. (or any of its\n",
      "affiliates) and the intended recipient or any other party, and may not be\n",
      "relied on by anyone as the basis of a contract by estoppel or otherwise.\n",
      "Thank you.\n",
      "**********************************************************************\n",
      "\n",
      "\n",
      "\n",
      "maildir/zufferli-j/sent_items/98.\n",
      "Message-ID: <22052556.1075842030013.JavaMail.evans@thyme>\r\n",
      "Date: Tue, 27 Nov 2001 11:52:45 -0800 (PST)\r\n",
      "From: john.zufferli@enron.com\r\n",
      "To: jeanie.slone@enron.com\r\n",
      "Subject: Calgary Analyst/Associate\r\n",
      "Mime-Version: 1.0\r\n",
      "Content-Type: text/plain; charset=us-ascii\r\n",
      "Content-Transfer-Encoding: 7bit\r\n",
      "X-From: Zufferli, John </O=ENRON/OU=NA/CN=RECIPIENTS/CN=JZUFFER>\r\n",
      "X-To: Slone, Jeanie </O=ENRON/OU=NA/CN=RECIPIENTS/CN=Jslone>\r\n",
      "X-cc: \r\n",
      "X-bcc: \r\n",
      "X-Folder: \\ExMerge - Zufferli, John\\Sent Items\r\n",
      "X-Origin: ZUFFERLI-J\r\n",
      "X-FileName: john zufferli 6-26-02.PST\r\n",
      "\r\n",
      "Analyst\t\t\t\t\tRank\n",
      "\n",
      "Stephane Brodeur\t\t\t1\n",
      "Chad Clark\t\t\t\t1\n",
      "Ian Cooke\t\t\t\t3\n",
      "Lon Draper\t\t\t\t1\n",
      "Fabian Taylor\t\t\t\t2\n",
      "Carlos Torres\t\t\t\t3\n",
      "Ryan Watt\t\t\t\t1\n",
      "\n",
      "Associate\n",
      "\n",
      "Cooper Richey\t\t\t\t1\n",
      "\n",
      "maildir/zufferli-j/sent_items/97.\n",
      "Message-ID: <28979867.1075842029988.JavaMail.evans@thyme>\r\n",
      "Date: Wed, 28 Nov 2001 07:20:00 -0800 (PST)\r\n",
      "From: john.zufferli@enron.com\r\n",
      "To: dawn.doucet@enron.com\r\n",
      "Subject: RE: CONFIDENTIAL\r\n",
      "Mime-Version: 1.0\r\n",
      "Content-Type: text/plain; charset=us-ascii\r\n",
      "Content-Transfer-Encoding: 7bit\r\n",
      "X-From: Zufferli, John </O=ENRON/OU=NA/CN=RECIPIENTS/CN=JZUFFER>\r\n",
      "X-To: Doucet, Dawn </O=ENRON/OU=NA/CN=RECIPIENTS/CN=Ddoucet>\r\n",
      "X-cc: \r\n",
      "X-bcc: \r\n",
      "X-Folder: \\ExMerge - Zufferli, John\\Sent Items\r\n",
      "X-Origin: ZUFFERLI-J\r\n",
      "X-FileName: john zufferli 6-26-02.PST\r\n",
      "\r\n",
      "2\n",
      "\n",
      " -----Original Message-----\n",
      "From: \tDoucet, Dawn  \n",
      "Sent:\tWednesday, November 28, 2001 8:17 AM\n",
      "To:\tZufferli, John\n",
      "Subject:\tCONFIDENTIAL\n",
      "\n",
      "Morning John,\n",
      "I'm still working on the mini-PRC for Lavo.  Sean Lalani has not yet been ranked and rumour has it that he reports to you now.  Can you confirm and send me a number.  Thanks!\n",
      "maildir/zufferli-j/sent_items/96.\n",
      "Message-ID: <25835861.1075842029959.JavaMail.evans@thyme>\r\n",
      "Date: Wed, 28 Nov 2001 12:47:48 -0800 (PST)\r\n",
      "From: john.zufferli@enron.com\r\n",
      "To: john.lavorato@enron.com\r\n",
      "Subject: Gas Hedges\r\n",
      "Mime-Version: 1.0\r\n",
      "Content-Type: text/plain; charset=us-ascii\r\n",
      "Content-Transfer-Encoding: 7bit\r\n",
      "X-From: Zufferli, John </O=ENRON/OU=NA/CN=RECIPIENTS/CN=JZUFFER>\r\n",
      "X-To: Lavorato, John </O=ENRON/OU=NA/CN=RECIPIENTS/CN=Jlavora>\r\n",
      "X-cc: \r\n",
      "X-bcc: \r\n",
      "X-Folder: \\ExMerge - Zufferli, John\\Sent Items\r\n",
      "X-Origin: ZUFFERLI-J\r\n",
      "X-FileName: john zufferli 6-26-02.PST\r\n",
      "\r\n",
      "Some of my position is with the Alberta Term book, I will send you only the positions that I have directly with ENA. \n",
      "maildir/zufferli-j/sent_items/95.\n",
      "Message-ID: <26807948.1075842029936.JavaMail.evans@thyme>\r\n",
      "Date: Wed, 28 Nov 2001 13:30:11 -0800 (PST)\r\n",
      "From: john.zufferli@enron.com\r\n",
      "To: kori.loibl@enron.com\r\n",
      "Subject: Trade with John Lavorato\r\n",
      "Mime-Version: 1.0\r\n",
      "Content-Type: text/plain; charset=us-ascii\r\n",
      "Content-Transfer-Encoding: 7bit\r\n",
      "X-From: Zufferli, John </O=ENRON/OU=NA/CN=RECIPIENTS/CN=JZUFFER>\r\n",
      "X-To: Loibl, Kori </O=ENRON/OU=NA/CN=RECIPIENTS/CN=Kloibl>\r\n",
      "X-cc: \r\n",
      "X-bcc: \r\n",
      "X-Folder: \\ExMerge - Zufferli, John\\Sent Items\r\n",
      "X-Origin: ZUFFERLI-J\r\n",
      "X-FileName: john zufferli 6-26-02.PST\r\n",
      "\r\n",
      "This is a trade with OIL-SPEC-HEDGE-NG (John Lavorato's book) and John Zufferli's book CAND-PWR-PR\n",
      "\n",
      "CAND-PWR-PR buys from OIL-SPEC-HEDGE-NG Nymex Gas\n",
      "\n",
      "Cal 03\t\t\t38,500 MMBtu/day\t\t$3.2978\n",
      "Cal 04-Cal 05\t\t35,000 MMBtu/day\t\t$3.4482\n",
      "Cal 06-Cal 10\t\t40,000 MMBtu/day\t\t$3.7369\n",
      "Cal 11-Cal 15\t\t18,500 MMBtu/Day\t\t$4.2057\n",
      "\n",
      "Please Confirm Receipt\n",
      "\n",
      "\n",
      "John Z\n",
      "maildir/zufferli-j/sent_items/94.\n",
      "Message-ID: <20245656.1075842029914.JavaMail.evans@thyme>\r\n",
      "Date: Thu, 29 Nov 2001 11:04:24 -0800 (PST)\r\n",
      "From: john.zufferli@enron.com\r\n",
      "To: livia_zufferli@monitor.com\r\n",
      "Subject: RE:\r\n",
      "Mime-Version: 1.0\r\n",
      "Content-Type: text/plain; charset=us-ascii\r\n",
      "Content-Transfer-Encoding: 7bit\r\n",
      "X-From: Zufferli, John </O=ENRON/OU=NA/CN=RECIPIENTS/CN=JZUFFER>\r\n",
      "X-To: 'Livia_Zufferli@Monitor.com@ENRON'\r\n",
      "X-cc: \r\n",
      "X-bcc: \r\n",
      "X-Folder: \\ExMerge - Zufferli, John\\Sent Items\r\n",
      "X-Origin: ZUFFERLI-J\r\n",
      "X-FileName: john zufferli 6-26-02.PST\r\n",
      "\r\n",
      "very busy, jess is ok just scared\n",
      "\n",
      " -----Original Message-----\n",
      "From: \tLivia_Zufferli@Monitor.com@ENRON  \n",
      "Sent:\tThursday, November 29, 2001 10:42 AM\n",
      "To:\tZufferli, John\n",
      "Subject:\t \n",
      "\n",
      "Hi,\n",
      "\n",
      "Are things a little less crazy today?  Did you and Jess work things out\n",
      "last night?  Why was she so upset (besides the obvious reason on the work\n",
      "front).\n",
      "\n",
      "I just went to the cardiologist for my follow up heart tests.  They said\n",
      "everything looks okay, and i just need to go back once a year for stress\n",
      "tests.\n",
      "\n",
      "I'm going to look at condos on Monday.  Starting in the Yonge and\n",
      "Davisville area, then going to look at St. Lawrence Market (lofts mostly),\n",
      "King & Bathurst and Bay / Bloor.  Still not sure if I should buy....\n",
      "\n",
      "Livia\n",
      "maildir/zufferli-j/sent_items/93.\n",
      "Message-ID: <25507923.1075842029891.JavaMail.evans@thyme>\r\n",
      "Date: Thu, 29 Nov 2001 11:41:51 -0800 (PST)\r\n",
      "From: john.zufferli@enron.com\r\n",
      "To: jzufferli@shaw.ca\r\n",
      "Subject: FW: Hello\r\n",
      "Mime-Version: 1.0\r\n",
      "Content-Type: text/plain; charset=us-ascii\r\n",
      "Content-Transfer-Encoding: 7bit\r\n",
      "X-From: Zufferli, John </O=ENRON/OU=NA/CN=RECIPIENTS/CN=JZUFFER>\r\n",
      "X-To: 'jzufferli@shaw.ca'\r\n",
      "X-cc: \r\n",
      "X-bcc: \r\n",
      "X-Folder: \\ExMerge - Zufferli, John\\Sent Items\r\n",
      "X-Origin: ZUFFERLI-J\r\n",
      "X-FileName: john zufferli 6-26-02.PST\r\n",
      "\r\n",
      "\n",
      "\n",
      " -----Original Message-----\n",
      "From: \t\"Lerner, Larry\" <Larry.Lerner@citadelgroup.com>@ENRON  \n",
      "Sent:\tThursday, November 29, 2001 9:40 AM\n",
      "To:\tZufferli, John\n",
      "Subject:\tHello\n",
      "\n",
      "Good to hear your voice again, old buddy.  I'm happy to hear that you and\n",
      "Jessica (??) have a baby on the way.  Hopefully Lisa and I will follow suit\n",
      "shortly...\n",
      "\n",
      "My home contact info is:\n",
      "\n",
      "1932 N Hudson, Unit 1\n",
      "Chicago, IL 60614\n",
      "312-335-1031\n",
      "\n",
      "Larry Lerner\n",
      "Vice President\n",
      "Investment Strategy & Development\n",
      "Citadel Investment Group, L.L.C.\n",
      "225 West Washington Street\n",
      "Chicago, IL 60606\n",
      "312.384.7088\n",
      "maildir/zufferli-j/sent_items/92.\n",
      "Message-ID: <25622034.1075842029843.JavaMail.evans@thyme>\r\n",
      "Date: Fri, 30 Nov 2001 14:53:21 -0800 (PST)\r\n",
      "From: john.zufferli@enron.com\r\n",
      "To: jzufferli@shaw.ca\r\n",
      "Subject: RE:\r\n",
      "Mime-Version: 1.0\r\n",
      "Content-Type: text/plain; charset=us-ascii\r\n",
      "Content-Transfer-Encoding: 7bit\r\n",
      "X-From: Zufferli, John </O=ENRON/OU=NA/CN=RECIPIENTS/CN=JZUFFER>\r\n",
      "X-To: 'J&J Zufferli <jzufferli@shaw.ca>@ENRON'\r\n",
      "X-cc: \r\n",
      "X-bcc: \r\n",
      "X-Folder: \\ExMerge - Zufferli, John\\Sent Items\r\n",
      "X-Origin: ZUFFERLI-J\r\n",
      "X-FileName: john zufferli 6-26-02.PST\r\n",
      "\r\n",
      "not yet, rob has been in the court house all day\n",
      "\n",
      " -----Original Message-----\n",
      "From: \tJ&J Zufferli <jzufferli@shaw.ca>@ENRON  \n",
      "Sent:\tFriday, November 30, 2001 2:12 PM\n",
      "To:\tZufferli, John\n",
      "Subject:\t \n",
      "\n",
      "\n",
      "No eagle, huh?\n",
      " \n",
      "love, jess\n",
      "maildir/zufferli-j/sent_items/91.\n",
      "Message-ID: <23829224.1075842029820.JavaMail.evans@thyme>\r\n",
      "Date: Mon, 3 Dec 2001 05:53:41 -0800 (PST)\r\n",
      "From: john.zufferli@enron.com\r\n",
      "To: nicole.laporte@enron.com, paul.dunsmore@enron.com, howard.sangwine@enron.com, \r\n",
      "\teric.le@enron.com, grant.oh@enron.com, dean.drozdiak@enron.com, \r\n",
      "\tgerry.hrap@enron.com, darren.delage@enron.com, \r\n",
      "\tsteven.burnham@enron.com, stephane.brodeur@enron.com, \r\n",
      "\tpeggy.hedstrom@enron.com\r\n",
      "Subject: RE: Counterparty List\r\n",
      "Mime-Version: 1.0\r\n",
      "Content-Type: text/plain; charset=us-ascii\r\n",
      "Content-Transfer-Encoding: 7bit\r\n",
      "X-From: Zufferli, John </O=ENRON/OU=NA/CN=RECIPIENTS/CN=JZUFFER>\r\n",
      "X-To: Laporte, Nicole </O=ENRON/OU=NA/CN=RECIPIENTS/CN=Nlaporte>, Dunsmore, Paul </O=ENRON/OU=NA/CN=RECIPIENTS/CN=Pdunsmor>, Sangwine, Howard </O=ENRON/OU=NA/CN=RECIPIENTS/CN=Hsangwi>, Le Dain, Eric </O=ENRON/OU=NA/CN=RECIPIENTS/CN=Eledain>, Oh, Grant </O=ENRON/OU=NA/CN=RECIPIENTS/CN=Goh>, Drozdiak, Dean </O=ENRON/OU=NA/CN=RECIPIENTS/CN=Ddrozdia>, Hrap, Gerry </O=ENRON/OU=NA/CN=RECIPIENTS/CN=Ghrap>, Delage, Darren </O=ENRON/OU=NA/CN=RECIPIENTS/CN=Ddelage>, Burnham, Steven </O=ENRON/OU=NA/CN=RECIPIENTS/CN=Sburnham>, Brodeur, Stephane </O=ENRON/OU=NA/CN=RECIPIENTS/CN=Sbrodeu>, Hedstrom, Peggy </O=ENRON/OU=NA/CN=RECIPIENTS/CN=Phedstr>\r\n",
      "X-cc: \r\n",
      "X-bcc: \r\n",
      "X-Folder: \\ExMerge - Zufferli, John\\Sent Items\r\n",
      "X-Origin: ZUFFERLI-J\r\n",
      "X-FileName: john zufferli 6-26-02.PST\r\n",
      "\r\n",
      "Nicole and everyone, I think the directory is i:\\canadian\\energy service\\integrated solutions\\counterparty talks.xls\n",
      "\n",
      " -----Original Message-----\n",
      "From: \tLaporte, Nicole  \n",
      "Sent:\tSunday, December 02, 2001 6:10 PM\n",
      "To:\tDunsmore, Paul; Laporte, Nicole; Sangwine, Howard; Le Dain, Eric; Oh, Grant; Drozdiak, Dean; Hrap, Gerry; Delage, Darren; Burnham, Steven; Brodeur, Stephane; Zufferli, John; Hedstrom, Peggy\n",
      "Subject:\tCounterparty List\n",
      "\n",
      "Good morning everyone,\n",
      "As you know we will be calling our counterparties today to discuss the Court Case slated for Wednesday. I have created a spreadsheet that lists which counterparties you have been assigned to contact. It can be found at I:/Canadian Energy Services/Counterparty Talks.xls. Please keep it updated throughout the day. It is a shared file; therefore, more than one user can access it at the same time. Just hit \"F9\" to update changes other users have made to the sheet throughout the day.\n",
      "John - Can you please let your group know about the sheet and assign your traders to the counterparties listed under \"Traders\"?\n",
      "Thank you,\n",
      "Nicole\n",
      " \n",
      "maildir/zufferli-j/sent_items/90.\n",
      "Message-ID: <25508136.1075842029796.JavaMail.evans@thyme>\r\n",
      "Date: Wed, 5 Dec 2001 06:22:58 -0800 (PST)\r\n",
      "From: john.zufferli@enron.com\r\n",
      "To: lon.draper@enron.com\r\n",
      "Subject: FW: Positions without Sundance\r\n",
      "Mime-Version: 1.0\r\n",
      "Content-Type: text/plain; charset=us-ascii\r\n",
      "Content-Transfer-Encoding: 7bit\r\n",
      "X-From: Zufferli, John </O=ENRON/OU=NA/CN=RECIPIENTS/CN=JZUFFER>\r\n",
      "X-To: Draper, Lon </O=ENRON/OU=NA/CN=RECIPIENTS/CN=Ldraper>\r\n",
      "X-cc: \r\n",
      "X-bcc: \r\n",
      "X-Folder: \\ExMerge - Zufferli, John\\Sent Items\r\n",
      "X-Origin: ZUFFERLI-J\r\n",
      "X-FileName: john zufferli 6-26-02.PST\r\n",
      "\r\n",
      "\n",
      "\n",
      " -----Original Message-----\n",
      "From: \tReeves, Kathy  \n",
      "Sent:\tThursday, November 29, 2001 8:34 PM\n",
      "To:\tZufferli, John\n",
      "Subject:\tPositions without Sundance\n",
      "\n",
      " \n"
     ]
    }
   ],
   "source": [
    "for record in subset:\n",
    "    print(record[0])\n",
    "    print(record[1])\n",
    "    print"
   ]
  },
  {
   "cell_type": "code",
   "execution_count": 15,
   "metadata": {
    "collapsed": true
   },
   "outputs": [],
   "source": [
    "import nltk"
   ]
  },
  {
   "cell_type": "code",
   "execution_count": 16,
   "metadata": {
    "collapsed": false
   },
   "outputs": [
    {
     "data": {
      "text/plain": [
       "5"
      ]
     },
     "execution_count": 16,
     "metadata": {},
     "output_type": "execute_result"
    }
   ],
   "source": [
    "text = \"this's a sent tokenize test. this is sent two. is this sent three? sent 4 is cool! Now it's your turn.\"\n",
    "from nltk.tokenize import sent_tokenize\n",
    "sent_tokenize_list = sent_tokenize(text)\n",
    "len(sent_tokenize_list)"
   ]
  },
  {
   "cell_type": "code",
   "execution_count": 17,
   "metadata": {
    "collapsed": false
   },
   "outputs": [
    {
     "name": "stdout",
     "output_type": "stream",
     "text": [
      "[\"this's a sent tokenize test.\", 'this is sent two.', 'is this sent three?', 'sent 4 is cool!', \"Now it's your turn.\"]\n"
     ]
    }
   ],
   "source": [
    "import nltk.data\n",
    "tokenizer = nltk.data.load('tokenizers/punkt/english.pickle')\n",
    "sentences = tokenizer.tokenize(text)\n",
    "print(sentences)"
   ]
  },
  {
   "cell_type": "code",
   "execution_count": 18,
   "metadata": {
    "collapsed": false
   },
   "outputs": [
    {
     "name": "stdout",
     "output_type": "stream",
     "text": [
      "['this', \"'s\", 'a', 'sent', 'tokenize', 'test', '.']\n",
      "['this', 'is', 'sent', 'two', '.']\n",
      "['is', 'this', 'sent', 'three', '?']\n",
      "['sent', '4', 'is', 'cool', '!']\n",
      "['Now', 'it', \"'s\", 'your', 'turn', '.']\n"
     ]
    }
   ],
   "source": [
    "from nltk.tokenize import TreebankWordTokenizer\n",
    "\n",
    "tokenizer = TreebankWordTokenizer()\n",
    "\n",
    "for sentence in sentences:\n",
    "    print(tokenizer.tokenize(sentence))"
   ]
  },
  {
   "cell_type": "code",
   "execution_count": 19,
   "metadata": {
    "collapsed": false
   },
   "outputs": [],
   "source": [
    "import nltk.data\n",
    "from nltk.tokenize import TreebankWordTokenizer\n",
    "\n",
    "from collections import namedtuple\n",
    "\n",
    "fields = ('token', 'tokennumber', 'sentencenumber', 'textid')\n",
    "Token = namedtuple('Token', fields)\n",
    "\n",
    "def tokenize_text(row):\n",
    "    text = row[1]\n",
    "    textid = row[0]\n",
    "  \n",
    "    sent_tokenizer = nltk.data.load('tokenizers/punkt/english.pickle')\n",
    "    word_tokenizer = TreebankWordTokenizer()\n",
    "    \n",
    "    tokens = []\n",
    "    \n",
    "    for i, s in enumerate(sent_tokenizer.tokenize(text)):\n",
    "        for j, token in enumerate(word_tokenizer.tokenize(s)):\n",
    "            #print('token: {}\\tsentence: {}\\tword: {}'.format(token, i, j))\n",
    "            tokens.append(Token(token, j, i, textid))\n",
    "    return tokens\n",
    "            \n",
    "\n",
    "for record in subset:\n",
    "    ts = tokenize_text(record)"
   ]
  },
  {
   "cell_type": "code",
   "execution_count": 20,
   "metadata": {
    "collapsed": false
   },
   "outputs": [
    {
     "name": "stdout",
     "output_type": "stream",
     "text": [
      "Token(token='>', tokennumber=6, sentencenumber=0, textid='maildir/zufferli-j/sent_items/90.')\n"
     ]
    }
   ],
   "source": [
    "print(ts[6])"
   ]
  },
  {
   "cell_type": "code",
   "execution_count": 21,
   "metadata": {
    "collapsed": false
   },
   "outputs": [
    {
     "name": "stdout",
     "output_type": "stream",
     "text": [
      "784\n",
      "107\n",
      "154\n",
      "105\n",
      "138\n",
      "236\n",
      "196\n",
      "142\n",
      "411\n",
      "115\n"
     ]
    }
   ],
   "source": [
    "from pyspark.sql.types import StructField, StringType, IntegerType, StructType\n",
    "\n",
    "schema = StructType([StructField('token', StringType(), True),\n",
    "          StructField('tokennumber', IntegerType(), True),\n",
    "          StructField('sentencenumber', IntegerType(), True),\n",
    "          StructField('textid', StringType(), True)])\n",
    "\n",
    "df = sqlContext.createDataFrame(sc.emptyRDD(), schema)\n",
    "for record in subset:\n",
    "    ts = tokenize_text(record)\n",
    "    t = sqlContext.createDataFrame(ts)\n",
    "    print(t.count())\n",
    "    df = df.unionAll(t)"
   ]
  },
  {
   "cell_type": "code",
   "execution_count": 22,
   "metadata": {
    "collapsed": false
   },
   "outputs": [
    {
     "data": {
      "text/plain": [
       "2388"
      ]
     },
     "execution_count": 22,
     "metadata": {},
     "output_type": "execute_result"
    }
   ],
   "source": [
    "df.count()"
   ]
  },
  {
   "cell_type": "code",
   "execution_count": 23,
   "metadata": {
    "collapsed": false
   },
   "outputs": [
    {
     "data": {
      "text/plain": [
       "[Row(token='Message-ID', tokennumber=0, sentencenumber=0, textid='maildir/zufferli-j/sent_items/99.'),\n",
       " Row(token=':', tokennumber=1, sentencenumber=0, textid='maildir/zufferli-j/sent_items/99.'),\n",
       " Row(token='<', tokennumber=2, sentencenumber=0, textid='maildir/zufferli-j/sent_items/99.'),\n",
       " Row(token='28618979.1075842030037.JavaMail.evans', tokennumber=3, sentencenumber=0, textid='maildir/zufferli-j/sent_items/99.')]"
      ]
     },
     "execution_count": 23,
     "metadata": {},
     "output_type": "execute_result"
    }
   ],
   "source": [
    "df.take(4)"
   ]
  },
  {
   "cell_type": "code",
   "execution_count": 24,
   "metadata": {
    "collapsed": false
   },
   "outputs": [
    {
     "name": "stdout",
     "output_type": "stream",
     "text": [
      "<class 'pyspark.sql.dataframe.DataFrame'>\n"
     ]
    },
    {
     "data": {
      "text/plain": [
       "[Row(token='Message-ID', tokennumber=0, sentencenumber=0, textid='maildir/blair-l/personnel___promotions/1.'),\n",
       " Row(token=':', tokennumber=1, sentencenumber=0, textid='maildir/blair-l/personnel___promotions/1.'),\n",
       " Row(token='<', tokennumber=2, sentencenumber=0, textid='maildir/blair-l/personnel___promotions/1.')]"
      ]
     },
     "execution_count": 24,
     "metadata": {},
     "output_type": "execute_result"
    }
   ],
   "source": [
    "res = data.flatMap(tokenize_text).toDF()\n",
    "print(type(res))\n",
    "#print(res.count())\n",
    "res.take(3)"
   ]
  }
 ],
 "metadata": {
  "kernelspec": {
   "display_name": "Python 3",
   "language": "python",
   "name": "python3"
  },
  "language_info": {
   "codemirror_mode": {
    "name": "ipython",
    "version": 3
   },
   "file_extension": ".py",
   "mimetype": "text/x-python",
   "name": "python",
   "nbconvert_exporter": "python",
   "pygments_lexer": "ipython3",
   "version": "3.5.1"
  },
  "widgets": {
   "state": {},
   "version": "1.1.1"
  }
 },
 "nbformat": 4,
 "nbformat_minor": 0
}
