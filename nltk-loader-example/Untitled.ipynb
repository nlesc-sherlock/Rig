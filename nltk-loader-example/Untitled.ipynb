{
 "cells": [
  {
   "cell_type": "code",
   "execution_count": 1,
   "metadata": {
    "collapsed": true
   },
   "outputs": [],
   "source": [
    "import os\n",
    "os.environ['PYSPARK_SUBMIT_ARGS'] = '--packages com.databricks:spark-csv_2.10:1.3.0 pyspark-shell'"
   ]
  },
  {
   "cell_type": "code",
   "execution_count": 2,
   "metadata": {
    "collapsed": true
   },
   "outputs": [],
   "source": [
    "import pyspark\n",
    "sc = pyspark.SparkContext()"
   ]
  },
  {
   "cell_type": "code",
   "execution_count": 3,
   "metadata": {
    "collapsed": false
   },
   "outputs": [
    {
     "name": "stdout",
     "output_type": "stream",
     "text": [
      "<pyspark.context.SparkContext object at 0x7f7ca013acf8>\n"
     ]
    }
   ],
   "source": [
    "print(sc)"
   ]
  },
  {
   "cell_type": "code",
   "execution_count": 4,
   "metadata": {
    "collapsed": false
   },
   "outputs": [
    {
     "data": {
      "text/plain": [
       "[35, 101, 652, 429, 490, 306, 603, 366, 792, 888]"
      ]
     },
     "execution_count": 4,
     "metadata": {},
     "output_type": "execute_result"
    }
   ],
   "source": [
    "# do something to prove it works\n",
    "rdd = sc.parallelize(range(1000))\n",
    "rdd.takeSample(False, 10)"
   ]
  },
  {
   "cell_type": "code",
   "execution_count": 5,
   "metadata": {
    "collapsed": false
   },
   "outputs": [
    {
     "data": {
      "text/plain": [
       "'/home/jovyan/work'"
      ]
     },
     "execution_count": 5,
     "metadata": {},
     "output_type": "execute_result"
    }
   ],
   "source": [
    "%pwd"
   ]
  },
  {
   "cell_type": "code",
   "execution_count": 6,
   "metadata": {
    "collapsed": false
   },
   "outputs": [
    {
     "name": "stdout",
     "output_type": "stream",
     "text": [
      "Dockerfile  Untitled.ipynb\r\n"
     ]
    }
   ],
   "source": [
    "%ls"
   ]
  },
  {
   "cell_type": "code",
   "execution_count": 7,
   "metadata": {
    "collapsed": false
   },
   "outputs": [
    {
     "name": "stdout",
     "output_type": "stream",
     "text": [
      "/data\n"
     ]
    }
   ],
   "source": [
    "%cd /data"
   ]
  },
  {
   "cell_type": "code",
   "execution_count": 8,
   "metadata": {
    "collapsed": false
   },
   "outputs": [
    {
     "name": "stdout",
     "output_type": "stream",
     "text": [
      "allen-p     donohoe-t       jones-t          neal-s         skilling-j\r\n",
      "arnold-j    dorland-c       kaminski-v       nemec-g        smith-m\r\n",
      "arora-h     ermis-f         kean-s           panus-s        south-s\r\n",
      "badeer-r    farmer-d        keavey-p         pereira-s      stclair-c\r\n",
      "bailey-s    fischer-m       king-j           perlingiere-d  stepenovitch-j\r\n",
      "bass-e      fossum-d        kuykendall-t     pimenov-v      storey-g\r\n",
      "baughman-d  gay-r           lavorato-j       presto-k       sturm-f\r\n",
      "beck-s      germany-c       lay-k            quenet-j       symes-k\r\n",
      "benson-r    gilbertsmith-d  lenhart-m        ring-a         taylor-m\r\n",
      "brawner-s   giron-d         lewis-a          rodrique-r     tholt-j\r\n",
      "buy-r       griffith-j      linder-e         rogers-b       townsend-j\r\n",
      "campbell-l  grigsby-m       lokay-m          ruscitti-k     tycholiz-b\r\n",
      "carson-m    guzman-m        love-p           sager-e        ward-k\r\n",
      "cash-m      haedicke-m      maggi-m          saibi-e        weldon-c\r\n",
      "corman-s    hain-m          mann-k           sanchez-m      whalley-g\r\n",
      "cuilla-m    hayslett-r      martin-t         sanders-r      whalley-l\r\n",
      "dasovich-j  heard-m         may-l            schwieger-j    white-s\r\n",
      "davis-d     hendrickson-s   mcconnell-m      scott-s        williams-j\r\n",
      "dean-c      hernandez-j     mckay-b          shackleton-s   wolfe-j\r\n",
      "delainey-d  hodge-j         mclaughlin-e     shankman-j     ybarbo-p\r\n",
      "derrick-j   horton-s        merriss-s        shapiro-r      zipper-a\r\n",
      "dickson-s   hyvl-d          mims-thurston-p  shively-h      zufferli-j\r\n"
     ]
    }
   ],
   "source": [
    "%ls"
   ]
  },
  {
   "cell_type": "code",
   "execution_count": 9,
   "metadata": {
    "collapsed": true
   },
   "outputs": [],
   "source": [
    "import nltk"
   ]
  },
  {
   "cell_type": "code",
   "execution_count": 12,
   "metadata": {
    "collapsed": false
   },
   "outputs": [
    {
     "name": "stdout",
     "output_type": "stream",
     "text": [
      "mckay-b\n",
      "hodge-j\n",
      "symes-k\n",
      "whalley-l\n",
      "king-j\n",
      "haedicke-m\n",
      "hendrickson-s\n",
      "keavey-p\n",
      "griffith-j\n",
      "presto-k\n",
      "maggi-m\n",
      "dorland-c\n",
      "ermis-f\n",
      "donohoe-t\n",
      "mcconnell-m\n",
      "corman-s\n",
      "skilling-j\n",
      "lay-k\n",
      "mclaughlin-e\n",
      "germany-c\n",
      "cuilla-m\n",
      "mims-thurston-p\n",
      "buy-r\n",
      "storey-g\n",
      "south-s\n",
      "schwieger-j\n",
      "hyvl-d\n",
      "gilbertsmith-d\n",
      "sanchez-m\n",
      "rodrique-r\n",
      "kean-s\n",
      "shankman-j\n",
      "quenet-j\n",
      "stepenovitch-j\n",
      "nemec-g\n",
      "hernandez-j\n",
      "guzman-m\n",
      "zipper-a\n",
      "townsend-j\n",
      "perlingiere-d\n",
      "love-p\n",
      "smith-m\n",
      "mann-k\n",
      "fischer-m\n",
      "bailey-s\n",
      "dickson-s\n",
      "merriss-s\n",
      "dean-c\n",
      "lenhart-m\n",
      "fossum-d\n",
      "davis-d\n",
      "may-l\n",
      "martin-t\n",
      "weldon-c\n",
      "linder-e\n",
      "pereira-s\n",
      "brawner-s\n",
      "ring-a\n",
      "horton-s\n",
      "beck-s\n",
      "hain-m\n",
      "panus-s\n",
      "tholt-j\n",
      "stclair-c\n",
      "sanders-r\n",
      "ward-k\n",
      "lavorato-j\n",
      "lewis-a\n",
      "pimenov-v\n",
      "heard-m\n",
      "ruscitti-k\n",
      "kaminski-v\n",
      "saibi-e\n",
      "allen-p\n",
      "gay-r\n",
      "hayslett-r\n",
      "zufferli-j\n",
      "tycholiz-b\n",
      "derrick-j\n",
      "sturm-f\n",
      "shively-h\n",
      "neal-s\n",
      "giron-d\n",
      "grigsby-m\n",
      "campbell-l\n",
      "dasovich-j\n",
      "lokay-m\n",
      "williams-j\n",
      "scott-s\n",
      "badeer-r\n",
      "wolfe-j\n",
      "taylor-m\n",
      "bass-e\n",
      "farmer-d\n",
      "baughman-d\n",
      "ybarbo-p\n",
      "shackleton-s\n",
      "white-s\n",
      "whalley-g\n",
      "carson-m\n",
      "rogers-b\n",
      "arora-h\n",
      "arnold-j\n",
      "cash-m\n",
      "jones-t\n",
      "benson-r\n",
      "kuykendall-t\n",
      "sager-e\n",
      "shapiro-r\n",
      "delainey-d\n"
     ]
    }
   ],
   "source": [
    "import json\n",
    "for person in os.listdir('/data'):\n",
    "    print(person)\n"
   ]
  }
 ],
 "metadata": {
  "kernelspec": {
   "display_name": "Python 3",
   "language": "python",
   "name": "python3"
  },
  "language_info": {
   "codemirror_mode": {
    "name": "ipython",
    "version": 3
   },
   "file_extension": ".py",
   "mimetype": "text/x-python",
   "name": "python",
   "nbconvert_exporter": "python",
   "pygments_lexer": "ipython3",
   "version": "3.5.1"
  },
  "widgets": {
   "state": {},
   "version": "1.1.1"
  }
 },
 "nbformat": 4,
 "nbformat_minor": 0
}
